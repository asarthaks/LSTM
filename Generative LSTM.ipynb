{
 "cells": [
  {
   "cell_type": "code",
   "execution_count": 5,
   "metadata": {},
   "outputs": [],
   "source": [
    "from math import ceil, log10\n",
    "from random import seed, randint, random\n",
    "from numpy import array\n",
    "from keras.models import Sequential\n",
    "from keras.layers import LSTM, RepeatVector, TimeDistributed\n",
    "from keras.layers.convolutional import Conv2D, MaxPooling2D\n",
    "from keras.layers.core import Flatten, Dense\n",
    "from numpy import argmax\n",
    "from matplotlib import pyplot\n",
    "from matplotlib.patches import PathPatch\n",
    "from matplotlib.path import Path"
   ]
  },
  {
   "cell_type": "code",
   "execution_count": 9,
   "metadata": {},
   "outputs": [
    {
     "name": "stdout",
     "output_type": "stream",
     "text": [
      "[[0.0, 0.0], [0.17980460820484123, 0.0], [0.17980460820484123, 0.049274364400570314], [0.0, 0.049274364400570314]]\n"
     ]
    }
   ],
   "source": [
    "# generate a rectangle with random width and height\n",
    "def random_rectangle():\n",
    "    width, height = random(), random()\n",
    "    points = list()\n",
    "    # bottom left\n",
    "    points.append([0.0, 0.0])\n",
    "    # bottom right\n",
    "    points.append([width, 0.0])\n",
    "    # top right\n",
    "    points.append([width, height])\n",
    "    # top left\n",
    "    points.append([0.0, height])\n",
    "    return points\n",
    "\n",
    "rect = random_rectangle()\n",
    "print(rect)"
   ]
  },
  {
   "cell_type": "code",
   "execution_count": 10,
   "metadata": {},
   "outputs": [],
   "source": [
    "# plot a rectangle\n",
    "def plot_rectangle(rect):\n",
    "    # close the rectangle path\n",
    "    rect.append(rect[0])\n",
    "    # define path\n",
    "    codes = [Path.MOVETO, Path.LINETO, Path.LINETO, Path.LINETO, Path.CLOSEPOLY]\n",
    "    path = Path(rect, codes)\n",
    "    axis = pyplot.gca()\n",
    "    patch = PathPatch(path)\n",
    "    # add shape to plot\n",
    "    axis.add_patch(patch)\n",
    "    axis.set_xlim(-0.1, 1.1)\n",
    "    axis.set_ylim(-0.1, 1.1)\n",
    "    pyplot.show()"
   ]
  },
  {
   "cell_type": "code",
   "execution_count": 13,
   "metadata": {},
   "outputs": [
    {
     "data": {
      "image/png": "[encoded data removed]",
      "text/plain": [
       "<Figure size 432x288 with 1 Axes>"
      ]
     },
     "metadata": {
      "needs_background": "light"
     },
     "output_type": "display_data"
    }
   ],
   "source": [
    "rect = random_rectangle()\n",
    "plot_rectangle(rect)"
   ]
  },
  {
   "cell_type": "code",
   "execution_count": 14,
   "metadata": {},
   "outputs": [],
   "source": [
    "# generate input and output sequence for one random rectangle\n",
    "def get_samples():\n",
    "    # generate rectangle\n",
    "    rect = random_rectangle()\n",
    "    \n",
    "    X, y = list(), list()\n",
    "    # create input output pait for each coordinate\n",
    "    for i in range(1, len(rect)):\n",
    "        X.append(rect[i-1])\n",
    "        y.append(rect[i])\n",
    "    # convert input sequence shape to have 1 time step and 2 features\n",
    "    X, y = array(X), array(y)\n",
    "    X = X.reshape((X.shape[0], 1, 2))\n",
    "    return X, y"
   ]
  },
  {
   "cell_type": "code",
   "execution_count": 15,
   "metadata": {},
   "outputs": [
    {
     "name": "stdout",
     "output_type": "stream",
     "text": [
      "(array([0., 0.]), '=>', array([0.72231413, 0.        ]))\n",
      "(array([0.72231413, 0.        ]), '=>', array([0.72231413, 0.61060689]))\n",
      "(array([0.72231413, 0.61060689]), '=>', array([0.        , 0.61060689]))\n"
     ]
    }
   ],
   "source": [
    "X, y = get_samples()\n",
    "for i in range(X.shape[0]):\n",
    "    print(X[i][0], '=>', y[i])"
   ]
  },
  {
   "cell_type": "code",
   "execution_count": 26,
   "metadata": {},
   "outputs": [
    {
     "name": "stdout",
     "output_type": "stream",
     "text": [
      "(3, 1, 2)\n"
     ]
    }
   ],
   "source": [
    "print(X.shape)"
   ]
  },
  {
   "cell_type": "code",
   "execution_count": 27,
   "metadata": {},
   "outputs": [
    {
     "name": "stdout",
     "output_type": "stream",
     "text": [
      "WARNING:tensorflow:From /home/sarthak/anaconda3/envs/opencv/lib/python2.7/site-packages/tensorflow/python/framework/op_def_library.py:263: colocate_with (from tensorflow.python.framework.ops) is deprecated and will be removed in a future version.\n",
      "Instructions for updating:\n",
      "Colocations handled automatically by placer.\n",
      "_________________________________________________________________\n",
      "Layer (type)                 Output Shape              Param #   \n",
      "=================================================================\n",
      "lstm_1 (LSTM)                (None, 10)                520       \n",
      "_________________________________________________________________\n",
      "dense_1 (Dense)              (None, 2)                 22        \n",
      "=================================================================\n",
      "Total params: 542\n",
      "Trainable params: 542\n",
      "Non-trainable params: 0\n",
      "_________________________________________________________________\n",
      "None\n"
     ]
    }
   ],
   "source": [
    "# define model\n",
    "model = Sequential()\n",
    "model.add(LSTM(10, input_shape=(1,2)))\n",
    "model.add(Dense(2, activation='linear'))\n",
    "model.compile(loss='mae', optimizer='adam')\n",
    "print(model.summary())"
   ]
  },
  {
   "cell_type": "code",
   "execution_count": 39,
   "metadata": {},
   "outputs": [],
   "source": [
    "# fit model\n",
    "for i in range(50000):\n",
    "    X, y = get_samples()\n",
    "    model.fit(X, y, epochs=1, verbose=0, shuffle=False)"
   ]
  },
  {
   "cell_type": "code",
   "execution_count": 29,
   "metadata": {},
   "outputs": [],
   "source": [
    "# use [0,0] to seed the generation process\n",
    "last = array([0.0, 0.0]).reshape((1, 1, 2))\n",
    "# predict the next coordinate\n",
    "yhat = model.predict(last, verbose=0)"
   ]
  },
  {
   "cell_type": "code",
   "execution_count": 30,
   "metadata": {},
   "outputs": [],
   "source": [
    "# use this output as input for the next prediction\n",
    "last = yhat.reshape((1, 1, 2))\n",
    "# predict the next coordinate\n",
    "yhat = model.predict(last, verbose=0)"
   ]
  },
  {
   "cell_type": "code",
   "execution_count": 31,
   "metadata": {},
   "outputs": [],
   "source": [
    "# use a fit LSTM model to generate a new rectangle from scratch\n",
    "def generate_rectangle(model):\n",
    "    rect = list()\n",
    "    # use [0,0] to seed the generation process\n",
    "    last = array([0.0, 0.0]).reshape((1, 1, 2))\n",
    "    rect.append([[y for y in x] for x in last[0]][0])\n",
    "    # generate the remaining 3 coordinates\n",
    "    for i in range(3):\n",
    "        # predict the next coordinate\n",
    "        yhat = model.predict(last, verbose=0)\n",
    "        # use this output as input for the next prediction\n",
    "        last = yhat.reshape((1, 1, 2))\n",
    "        # store coordinate\n",
    "        rect.append([[y for y in x] for x in last[0]][0])\n",
    "    return rect"
   ]
  },
  {
   "cell_type": "code",
   "execution_count": 32,
   "metadata": {},
   "outputs": [
    {
     "data": {
      "image/png": "[encoded data removed]",
      "text/plain": [
       "<Figure size 432x288 with 1 Axes>"
      ]
     },
     "metadata": {
      "needs_background": "light"
     },
     "output_type": "display_data"
    }
   ],
   "source": [
    "# generate new shape from scratch\n",
    "#rect = generate_rectangle(model)\n",
    "plot_rectangle(rect)\n",
    "#after 25000 training examples"
   ]
  },
  {
   "cell_type": "code",
   "execution_count": 36,
   "metadata": {},
   "outputs": [
    {
     "data": {
      "image/png": "[encoded data removed]",
      "text/plain": [
       "<Figure size 432x288 with 1 Axes>"
      ]
     },
     "metadata": {
      "needs_background": "light"
     },
     "output_type": "display_data"
    }
   ],
   "source": [
    "# generate new shape from scratch\n",
    "rect1 = generate_rectangle(model)\n",
    "plot_rectangle(rect1)\n",
    "#after 50000 training examples"
   ]
  },
  {
   "cell_type": "code",
   "execution_count": 38,
   "metadata": {},
   "outputs": [
    {
     "data": {
      "image/png": "[encoded data removed]",
      "text/plain": [
       "<Figure size 432x288 with 1 Axes>"
      ]
     },
     "metadata": {
      "needs_background": "light"
     },
     "output_type": "display_data"
    }
   ],
   "source": [
    "# generate new shape from scratch (shuffle = true)\n",
    "rect2 = generate_rectangle(model)\n",
    "plot_rectangle(rect2)\n",
    "#after 25000 training examples"
   ]
  },
  {
   "cell_type": "code",
   "execution_count": 40,
   "metadata": {},
   "outputs": [
    {
     "data": {
      "image/png": "[encoded data removed]",
      "text/plain": [
       "<Figure size 432x288 with 1 Axes>"
      ]
     },
     "metadata": {
      "needs_background": "light"
     },
     "output_type": "display_data"
    }
   ],
   "source": [
    "# generate new shape from scratch (shuffle = true)\n",
    "rect3 = generate_rectangle(model)\n",
    "plot_rectangle(rect3)\n",
    "#after 50000 training examples"
   ]
  },
  {
   "cell_type": "code",
   "execution_count": null,
   "metadata": {},
   "outputs": [],
   "source": []
  }
 ],
 "metadata": {
  "kernelspec": {
   "display_name": "Python 2",
   "language": "python",
   "name": "python2"
  },
  "language_info": {
   "codemirror_mode": {
    "name": "ipython",
    "version": 2
   },
   "file_extension": ".py",
   "mimetype": "text/x-python",
   "name": "python",
   "nbconvert_exporter": "python",
   "pygments_lexer": "ipython2",
   "version": "2.7.16"
  }
 },
 "nbformat": 4,
 "nbformat_minor": 2
}
