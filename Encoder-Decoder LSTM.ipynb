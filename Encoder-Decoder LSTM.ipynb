{
 "cells": [
  {
   "cell_type": "code",
   "execution_count": 31,
   "metadata": {},
   "outputs": [],
   "source": [
    "from math import ceil, log10\n",
    "from random import seed, randint\n",
    "from numpy import array\n",
    "from keras.models import Sequential\n",
    "from keras.layers import LSTM, RepeatVector, TimeDistributed\n",
    "from keras.layers.convolutional import Conv2D, MaxPooling2D\n",
    "from keras.layers.core import Flatten, Dense\n",
    "from numpy import argmax\n",
    "from matplotlib import pyplot"
   ]
  },
  {
   "cell_type": "code",
   "execution_count": 2,
   "metadata": {},
   "outputs": [],
   "source": [
    "#generate lists of random integers and their sum\n",
    "def random_sum_pairs(n_examples, n_numbers, largest):\n",
    "    X, y = list(), list()\n",
    "    for i in range(n_examples):\n",
    "        in_pattern = [randint(1,largest) for _ in range(n_numbers)]\n",
    "        out_pattern = sum(in_pattern)\n",
    "        X.append(in_pattern)\n",
    "        y.append(out_pattern)\n",
    "    return X, y"
   ]
  },
  {
   "cell_type": "code",
   "execution_count": 3,
   "metadata": {},
   "outputs": [
    {
     "name": "stdout",
     "output_type": "stream",
     "text": [
      "([[2, 9, 8]], [19])\n"
     ]
    }
   ],
   "source": [
    "seed(1)\n",
    "n_samples = 1\n",
    "n_numbers = 3\n",
    "largest = 10\n",
    "#generate pairs\n",
    "X, y = random_sum_pairs(n_samples, n_numbers, largest)\n",
    "print(X, y)"
   ]
  },
  {
   "cell_type": "code",
   "execution_count": 4,
   "metadata": {},
   "outputs": [
    {
     "name": "stdout",
     "output_type": "stream",
     "text": [
      "8.0\n"
     ]
    }
   ],
   "source": [
    "#max length of input sequence\n",
    "max_length_i = n_numbers*ceil(log10(largest+1)) + n_numbers - 1\n",
    "print(max_length_i)"
   ]
  },
  {
   "cell_type": "code",
   "execution_count": 5,
   "metadata": {},
   "outputs": [
    {
     "name": "stdout",
     "output_type": "stream",
     "text": [
      "2.0\n"
     ]
    }
   ],
   "source": [
    "#max length of output sequence\n",
    "max_length_o = ceil(log10(n_numbers*(largest+1)))\n",
    "print(max_length_o)"
   ]
  },
  {
   "cell_type": "code",
   "execution_count": 6,
   "metadata": {},
   "outputs": [],
   "source": [
    "#convert data to strings\n",
    "def to_string(X, y, n_numbers, largest):\n",
    "    max_length = int(n_numbers*ceil(log10(largest+1)) + n_numbers - 1)\n",
    "    Xstr = list()\n",
    "    for pattern in X:\n",
    "        strp = '+'.join([str(n) for n in pattern])\n",
    "        strp = ''.join([' ' for _ in range(max_length-len(strp))])  + strp\n",
    "        Xstr.append(strp)\n",
    "    max_length = int(ceil(log10(n_numbers*(largest+1))))\n",
    "    ystr = list()\n",
    "    for pattern in y:\n",
    "        strp = str(pattern)\n",
    "        strp = ''.join([' ' for _ in range(max_length-len(strp))]) + strp\n",
    "        ystr.append(strp)\n",
    "    return Xstr, ystr"
   ]
  },
  {
   "cell_type": "code",
   "execution_count": 7,
   "metadata": {},
   "outputs": [],
   "source": [
    "seed(1)\n",
    "n_samples = 1\n",
    "n_numbers = 2\n",
    "largest = 10"
   ]
  },
  {
   "cell_type": "code",
   "execution_count": 8,
   "metadata": {},
   "outputs": [
    {
     "name": "stdout",
     "output_type": "stream",
     "text": [
      "([[2, 9]], [11])\n"
     ]
    }
   ],
   "source": [
    "#generate pairs\n",
    "X, y = random_sum_pairs(n_samples, n_numbers, largest)\n",
    "print(X, y)"
   ]
  },
  {
   "cell_type": "code",
   "execution_count": 9,
   "metadata": {},
   "outputs": [
    {
     "name": "stdout",
     "output_type": "stream",
     "text": [
      "(['  2+9'], ['11'])\n"
     ]
    }
   ],
   "source": [
    "X, y = to_string(X, y, n_numbers, largest)\n",
    "print(X, y)"
   ]
  },
  {
   "cell_type": "code",
   "execution_count": 10,
   "metadata": {},
   "outputs": [
    {
     "name": "stdout",
     "output_type": "stream",
     "text": [
      "['0', '1', '2', '3', '4', '5', '6', '7', '8', '9', '+', ' ']\n"
     ]
    }
   ],
   "source": [
    "alphabet = [str(i) for i in range(0, 10)]\n",
    "alphabet.append('+')\n",
    "alphabet.append(' ')\n",
    "print(alphabet)"
   ]
  },
  {
   "cell_type": "code",
   "execution_count": 11,
   "metadata": {},
   "outputs": [],
   "source": [
    "#integer encode strings\n",
    "def integer_encode(X, y, alphabet):\n",
    "    char_to_int = dict((c, i) for i, c in enumerate(alphabet))\n",
    "    Xenc = list()\n",
    "    for pattern in X:\n",
    "        integer_encoded = [char_to_int[char] for char in pattern]\n",
    "        Xenc.append(integer_encoded)\n",
    "    yenc = list()\n",
    "    for pattern in y:\n",
    "        integer_encoded = [char_to_int[char] for char in pattern]\n",
    "        yenc.append(integer_encoded)\n",
    "    return Xenc, yenc"
   ]
  },
  {
   "cell_type": "code",
   "execution_count": 12,
   "metadata": {},
   "outputs": [],
   "source": [
    "seed(1)\n",
    "n_samples = 1\n",
    "n_numbers = 2\n",
    "largest = 10"
   ]
  },
  {
   "cell_type": "code",
   "execution_count": 13,
   "metadata": {},
   "outputs": [
    {
     "name": "stdout",
     "output_type": "stream",
     "text": [
      "([[2, 9]], [11])\n"
     ]
    }
   ],
   "source": [
    "#generate pairs\n",
    "X, y = random_sum_pairs(n_samples, n_numbers, largest)\n",
    "print(X, y)"
   ]
  },
  {
   "cell_type": "code",
   "execution_count": 14,
   "metadata": {},
   "outputs": [
    {
     "name": "stdout",
     "output_type": "stream",
     "text": [
      "(['  2+9'], ['11'])\n"
     ]
    }
   ],
   "source": [
    "#convert to strings\n",
    "X, y = to_string(X, y, n_numbers, largest)\n",
    "print(X, y)"
   ]
  },
  {
   "cell_type": "code",
   "execution_count": 15,
   "metadata": {},
   "outputs": [
    {
     "name": "stdout",
     "output_type": "stream",
     "text": [
      "['0', '1', '2', '3', '4', '5', '6', '7', '8', '9', '+', ' ']\n"
     ]
    }
   ],
   "source": [
    "#creating alphabet list\n",
    "alphabet = [str(i) for i in range(0, 10)]\n",
    "alphabet.append('+')\n",
    "alphabet.append(' ')\n",
    "print(alphabet)"
   ]
  },
  {
   "cell_type": "code",
   "execution_count": 16,
   "metadata": {},
   "outputs": [
    {
     "name": "stdout",
     "output_type": "stream",
     "text": [
      "([[11, 11, 2, 10, 9]], [[1, 1]])\n"
     ]
    }
   ],
   "source": [
    "#integer encode\n",
    "X, y = integer_encode(X, y, alphabet)\n",
    "print(X, y)"
   ]
  },
  {
   "cell_type": "code",
   "execution_count": 17,
   "metadata": {},
   "outputs": [],
   "source": [
    "# one hot encode\n",
    "def one_hot_encode(X, y, max_int):\n",
    "    Xenc = list()\n",
    "    for seq in X:\n",
    "        pattern = list()\n",
    "        for index in seq:\n",
    "            vector = [0 for _ in range(max_int)]\n",
    "            vector[index] = 1\n",
    "            pattern.append(vector)\n",
    "        Xenc.append(pattern)\n",
    "    yenc = list()\n",
    "    for seq in y:\n",
    "        pattern = list()\n",
    "        for index in seq:\n",
    "            vector = [0 for _ in range(max_int)]\n",
    "            vector[index] = 1\n",
    "            pattern.append(vector)\n",
    "        yenc.append(pattern)\n",
    "    return Xenc, yenc"
   ]
  },
  {
   "cell_type": "code",
   "execution_count": 18,
   "metadata": {},
   "outputs": [
    {
     "name": "stdout",
     "output_type": "stream",
     "text": [
      "([[[0, 0, 0, 0, 0, 0, 0, 0, 0, 0, 0, 1], [0, 0, 0, 0, 0, 0, 0, 0, 0, 0, 0, 1], [0, 0, 1, 0, 0, 0, 0, 0, 0, 0, 0, 0], [0, 0, 0, 0, 0, 0, 0, 0, 0, 0, 1, 0], [0, 0, 0, 0, 0, 0, 0, 0, 0, 1, 0, 0]]], [[[0, 1, 0, 0, 0, 0, 0, 0, 0, 0, 0, 0], [0, 1, 0, 0, 0, 0, 0, 0, 0, 0, 0, 0]]])\n",
      "((1, 5, 12), (1, 2, 12))\n"
     ]
    }
   ],
   "source": [
    "#one hot encode\n",
    "X, y = one_hot_encode(X, y, len(alphabet))\n",
    "print(X, y)\n",
    "X = array(X)\n",
    "y = array(y)\n",
    "print(X.shape, y.shape)"
   ]
  },
  {
   "cell_type": "code",
   "execution_count": 19,
   "metadata": {},
   "outputs": [],
   "source": [
    "# generate an encoded dataset\n",
    "def generate_data(n_samples, n_numbers, largest, alphabet):\n",
    "    # generate pairs\n",
    "    X, y = random_sum_pairs(n_samples, n_numbers, largest)\n",
    "    # convert to strings\n",
    "    X, y = to_string(X, y, n_numbers, largest)\n",
    "    # integer encode\n",
    "    X, y = integer_encode(X, y, alphabet)\n",
    "    # one hot encode\n",
    "    X, y = one_hot_encode(X, y, len(alphabet))\n",
    "    # return as numpy arrays\n",
    "    X, y = array(X), array(y)\n",
    "    return X, y"
   ]
  },
  {
   "cell_type": "code",
   "execution_count": 20,
   "metadata": {},
   "outputs": [],
   "source": [
    "#invert encoding\n",
    "def invert(seq, alphabet):\n",
    "    int_to_char = dict((i, c) for i, c in enumerate(alphabet))\n",
    "    strings = list()\n",
    "    for pattern in seq:\n",
    "        string = int_to_char[argmax(pattern)]\n",
    "        strings.append(string)\n",
    "    return ''.join(strings)"
   ]
  },
  {
   "cell_type": "code",
   "execution_count": 21,
   "metadata": {},
   "outputs": [],
   "source": [
    "# number of math terms\n",
    "n_terms = 3\n",
    "# largest value for any single input digit\n",
    "largest = 10\n",
    "# scope of possible symbols for each input or output time step\n",
    "alphabet = [str(x) for x in range(10)] + ['+', ' ']"
   ]
  },
  {
   "cell_type": "code",
   "execution_count": 22,
   "metadata": {},
   "outputs": [],
   "source": [
    "# size of alphabet: (12 for 0-9, + and ' ')\n",
    "n_chars = len(alphabet)\n",
    "# length of encoded input sequence (8 for '10+10+10')\n",
    "n_in_seq_length = int(n_terms * ceil(log10(largest+1)) + n_terms - 1)\n",
    "# length of encoded output sequence (2 for '30')\n",
    "n_out_seq_length = int(ceil(log10(n_terms * (largest+1))))"
   ]
  },
  {
   "cell_type": "code",
   "execution_count": 23,
   "metadata": {},
   "outputs": [
    {
     "name": "stdout",
     "output_type": "stream",
     "text": [
      "WARNING:tensorflow:From /home/sarthak/anaconda3/envs/opencv/lib/python2.7/site-packages/tensorflow/python/framework/op_def_library.py:263: colocate_with (from tensorflow.python.framework.ops) is deprecated and will be removed in a future version.\n",
      "Instructions for updating:\n",
      "Colocations handled automatically by placer.\n",
      "_________________________________________________________________\n",
      "Layer (type)                 Output Shape              Param #   \n",
      "=================================================================\n",
      "lstm_1 (LSTM)                (None, 75)                26400     \n",
      "_________________________________________________________________\n",
      "repeat_vector_1 (RepeatVecto (None, 2, 75)             0         \n",
      "_________________________________________________________________\n",
      "lstm_2 (LSTM)                (None, 2, 50)             25200     \n",
      "_________________________________________________________________\n",
      "time_distributed_1 (TimeDist (None, 2, 12)             612       \n",
      "=================================================================\n",
      "Total params: 52,212\n",
      "Trainable params: 52,212\n",
      "Non-trainable params: 0\n",
      "_________________________________________________________________\n",
      "None\n"
     ]
    }
   ],
   "source": [
    "#define LSTM\n",
    "model = Sequential()\n",
    "model.add(LSTM(75, input_shape=(n_in_seq_length, n_chars)))\n",
    "model.add(RepeatVector(n_out_seq_length))\n",
    "model.add(LSTM(50, return_sequences=True))\n",
    "model.add(TimeDistributed(Dense(n_chars, activation='softmax')))\n",
    "model.compile(loss='categorical_crossentropy', optimizer='adam', metrics=['accuracy'])\n",
    "print(model.summary())"
   ]
  },
  {
   "cell_type": "code",
   "execution_count": 40,
   "metadata": {},
   "outputs": [],
   "source": [
    "# fit LSTM\n",
    "X, y = generate_data(10000, n_terms, largest, alphabet)"
   ]
  },
  {
   "cell_type": "code",
   "execution_count": 41,
   "metadata": {},
   "outputs": [
    {
     "name": "stdout",
     "output_type": "stream",
     "text": [
      "Train on 6699 samples, validate on 3301 samples\n",
      "Epoch 1/20\n",
      "6699/6699 [==============================] - 3s 387us/step - loss: 0.0181 - acc: 0.9984 - val_loss: 0.0196 - val_acc: 0.9964\n",
      "Epoch 2/20\n",
      "6699/6699 [==============================] - 3s 377us/step - loss: 0.0159 - acc: 0.9981 - val_loss: 0.0169 - val_acc: 0.9964\n",
      "Epoch 3/20\n",
      "6699/6699 [==============================] - 3s 378us/step - loss: 0.0138 - acc: 0.9982 - val_loss: 0.0164 - val_acc: 0.9964\n",
      "Epoch 4/20\n",
      "6699/6699 [==============================] - 3s 400us/step - loss: 0.3859 - acc: 0.8844 - val_loss: 0.0324 - val_acc: 0.9933\n",
      "Epoch 5/20\n",
      "6699/6699 [==============================] - 3s 401us/step - loss: 0.0248 - acc: 0.9969 - val_loss: 0.0231 - val_acc: 0.9964\n",
      "Epoch 6/20\n",
      "6699/6699 [==============================] - 3s 435us/step - loss: 0.0181 - acc: 0.9977 - val_loss: 0.0182 - val_acc: 0.9964\n",
      "Epoch 7/20\n",
      "6699/6699 [==============================] - 3s 435us/step - loss: 0.0152 - acc: 0.9981 - val_loss: 0.0156 - val_acc: 0.9985\n",
      "Epoch 8/20\n",
      "6699/6699 [==============================] - 3s 396us/step - loss: 0.0135 - acc: 0.9985 - val_loss: 0.0142 - val_acc: 0.9991\n",
      "Epoch 9/20\n",
      "6699/6699 [==============================] - 3s 465us/step - loss: 0.0120 - acc: 0.9990 - val_loss: 0.0144 - val_acc: 0.9964\n",
      "Epoch 10/20\n",
      "6699/6699 [==============================] - 3s 416us/step - loss: 0.0110 - acc: 0.9984 - val_loss: 0.0117 - val_acc: 0.9964\n",
      "Epoch 11/20\n",
      "6699/6699 [==============================] - 3s 383us/step - loss: 0.0101 - acc: 0.9986 - val_loss: 0.0105 - val_acc: 0.9991\n",
      "Epoch 12/20\n",
      "6699/6699 [==============================] - 3s 380us/step - loss: 0.0092 - acc: 0.9989 - val_loss: 0.0101 - val_acc: 0.9991\n",
      "Epoch 13/20\n",
      "6699/6699 [==============================] - 3s 403us/step - loss: 0.0082 - acc: 0.9992 - val_loss: 0.0094 - val_acc: 0.9973\n",
      "Epoch 14/20\n",
      "6699/6699 [==============================] - 3s 473us/step - loss: 0.0074 - acc: 0.9990 - val_loss: 0.0081 - val_acc: 0.9991\n",
      "Epoch 15/20\n",
      "6699/6699 [==============================] - 3s 406us/step - loss: 0.0068 - acc: 0.9993 - val_loss: 0.0081 - val_acc: 0.9991\n",
      "Epoch 16/20\n",
      "6699/6699 [==============================] - 3s 507us/step - loss: 0.0061 - acc: 0.9993 - val_loss: 0.0069 - val_acc: 0.9991\n",
      "Epoch 17/20\n",
      "6699/6699 [==============================] - 3s 485us/step - loss: 0.0057 - acc: 0.9993 - val_loss: 0.0069 - val_acc: 0.9991\n",
      "Epoch 18/20\n",
      "6699/6699 [==============================] - 3s 412us/step - loss: 0.3611 - acc: 0.9484 - val_loss: 1.1998 - val_acc: 0.5682\n",
      "Epoch 19/20\n",
      "6699/6699 [==============================] - 3s 460us/step - loss: 0.3918 - acc: 0.8829 - val_loss: 0.1197 - val_acc: 0.9703\n",
      "Epoch 20/20\n",
      "6699/6699 [==============================] - 3s 446us/step - loss: 0.0796 - acc: 0.9801 - val_loss: 0.0607 - val_acc: 0.9920\n"
     ]
    }
   ],
   "source": [
    "history = model.fit(X, y, epochs=20, batch_size=32, validation_split=0.33)"
   ]
  },
  {
   "cell_type": "code",
   "execution_count": 42,
   "metadata": {},
   "outputs": [
    {
     "data": {
      "image/png": "[encoded data removed]",
      "text/plain": [
       "<Figure size 432x288 with 1 Axes>"
      ]
     },
     "metadata": {
      "needs_background": "light"
     },
     "output_type": "display_data"
    }
   ],
   "source": [
    "pyplot.plot(history.history['loss'])\n",
    "pyplot.plot(history.history['val_loss'])\n",
    "pyplot.title('model train vs validation loss')\n",
    "pyplot.ylabel('loss')\n",
    "pyplot.xlabel('epoch')\n",
    "pyplot.legend(['train', 'validation'], loc='upper right')\n",
    "pyplot.show()"
   ]
  },
  {
   "cell_type": "code",
   "execution_count": 43,
   "metadata": {},
   "outputs": [
    {
     "name": "stdout",
     "output_type": "stream",
     "text": [
      "Loss: 0.051107, Accuracy: 99.500000\n"
     ]
    }
   ],
   "source": [
    "# evaluate LSTM\n",
    "X, y = generate_data(100, n_terms, largest, alphabet)\n",
    "loss, acc = model.evaluate(X, y, verbose=0)\n",
    "print('Loss: %f, Accuracy: %f' %(loss, acc*100))"
   ]
  },
  {
   "cell_type": "code",
   "execution_count": 44,
   "metadata": {},
   "outputs": [
    {
     "name": "stdout",
     "output_type": "stream",
     "text": [
      "   4+1+4 =  9 (expected  9)\n",
      "   5+8+5 = 18 (expected 18)\n",
      "  10+6+2 = 18 (expected 18)\n",
      " 10+10+8 = 28 (expected 28)\n",
      "  10+1+5 = 16 (expected 16)\n",
      "   4+5+5 = 14 (expected 14)\n",
      "   4+5+9 = 18 (expected 18)\n",
      "  2+10+9 = 21 (expected 21)\n",
      "  9+10+7 = 26 (expected 26)\n",
      "   1+4+6 = 11 (expected 11)\n"
     ]
    }
   ],
   "source": [
    "# predict\n",
    "for _ in range(10):\n",
    "    # generate an input-output pair\n",
    "    X, y = generate_data(1, n_terms, largest, alphabet)\n",
    "    #make prediction\n",
    "    yhat = model.predict(X, verbose=0)\n",
    "    #decode input, expected and predicted\n",
    "    in_seq = invert(X[0], alphabet)\n",
    "    out_seq = invert(y[0], alphabet)\n",
    "    predicted = invert(yhat[0], alphabet)\n",
    "    print('%s = %s (expected %s)' %(in_seq, predicted, out_seq))"
   ]
  },
  {
   "cell_type": "code",
   "execution_count": null,
   "metadata": {},
   "outputs": [],
   "source": []
  }
 ],
 "metadata": {
  "kernelspec": {
   "display_name": "Python 2",
   "language": "python",
   "name": "python2"
  },
  "language_info": {
   "codemirror_mode": {
    "name": "ipython",
    "version": 2
   },
   "file_extension": ".py",
   "mimetype": "text/x-python",
   "name": "python",
   "nbconvert_exporter": "python",
   "pygments_lexer": "ipython2",
   "version": "2.7.16"
  }
 },
 "nbformat": 4,
 "nbformat_minor": 2
}
