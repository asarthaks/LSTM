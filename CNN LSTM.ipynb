{
 "cells": [
  {
   "cell_type": "code",
   "execution_count": 47,
   "metadata": {},
   "outputs": [],
   "source": [
    "from keras.models import Sequential\n",
    "from keras.layers import LSTM, TimeDistributed\n",
    "from keras.layers.convolutional import Conv2D, MaxPooling2D\n",
    "from keras.layers.core import Flatten, Dense\n",
    "from numpy import array, zeros\n",
    "from math import sin\n",
    "from math import pi, exp\n",
    "from matplotlib import pyplot\n",
    "from random import random, randint, uniform"
   ]
  },
  {
   "cell_type": "code",
   "execution_count": 48,
   "metadata": {},
   "outputs": [],
   "source": [
    "#generate the next frame in the sequence\n",
    "def next_frame(last_step, last_frame, column):\n",
    "    #define the scope of the next step\n",
    "    lower = max(0, last_step-1)\n",
    "    upper = min(last_frame.shape[0]-1, last_step+1)\n",
    "    #choose the row index for the next step\n",
    "    step = randint(lower, upper)\n",
    "    #copy the prior frame\n",
    "    frame = last_frame.copy()\n",
    "    #add the new step\n",
    "    frame[step, column] = 1\n",
    "    return frame, step"
   ]
  },
  {
   "cell_type": "code",
   "execution_count": 49,
   "metadata": {},
   "outputs": [],
   "source": [
    "#generate a sequence of frames of a dot moving across an image\n",
    "def build_frames(size):\n",
    "    frames = list()\n",
    "    #create the first frame\n",
    "    frame = zeros((size, size))\n",
    "    step = randint(0, size-1)\n",
    "    #decide if we are heading left or right\n",
    "    right = 1 if random() < 0.5 else 0\n",
    "    col = 0 if right else size-1\n",
    "    frame[step, col] = 1\n",
    "    frames.append(frame)\n",
    "    #create all remaining frames\n",
    "    for i in range(1, size):\n",
    "        col = i if right else size-1-i\n",
    "        frame, step = next_frame(step, frame, col)\n",
    "        frames.append(frame)\n",
    "    return frames, right"
   ]
  },
  {
   "cell_type": "code",
   "execution_count": 52,
   "metadata": {},
   "outputs": [],
   "source": [
    "#generate sequence of frames\n",
    "size = 5\n",
    "frames, right = build_frames(size)"
   ]
  },
  {
   "cell_type": "code",
   "execution_count": 53,
   "metadata": {},
   "outputs": [
    {
     "data": {
      "image/png": "[encoded data removed]",
      "text/plain": [
       "<Figure size 432x288 with 5 Axes>"
      ]
     },
     "metadata": {
      "needs_background": "light"
     },
     "output_type": "display_data"
    }
   ],
   "source": [
    "#plot all frames\n",
    "pyplot.figure()\n",
    "for i in range(size):\n",
    "    #create a grayscale subplot for each frame\n",
    "    pyplot.subplot(1, size, i+1)\n",
    "    pyplot.imshow(frames[i], cmap='Greys')\n",
    "    #turn of the scale to make it clearer\n",
    "    ax = pyplot.gca()\n",
    "    ax.get_xaxis().set_visible(False)\n",
    "    ax.get_yaxis().set_visible(False)\n",
    "#show the plot\n",
    "pyplot.show()"
   ]
  },
  {
   "cell_type": "code",
   "execution_count": 54,
   "metadata": {},
   "outputs": [],
   "source": [
    "#generate multiple sequences of frames and reshape for network input\n",
    "def generate_examples(size, n_patterns):\n",
    "    X, y = list(), list()\n",
    "    for _ in range(n_patterns):\n",
    "        frames, right = build_frames(size)\n",
    "        X.append(frames)\n",
    "        y.append(right)\n",
    "    #resize as [samples, timesteps, width, height, channels]\n",
    "    X = array(X).reshape(n_patterns, size, size, size, 1)\n",
    "    y = array(y).reshape(n_patterns, 1)\n",
    "    return X,y"
   ]
  },
  {
   "cell_type": "code",
   "execution_count": 55,
   "metadata": {},
   "outputs": [],
   "source": [
    "#configure problem\n",
    "size = 50"
   ]
  },
  {
   "cell_type": "code",
   "execution_count": 56,
   "metadata": {},
   "outputs": [
    {
     "name": "stdout",
     "output_type": "stream",
     "text": [
      "_________________________________________________________________\n",
      "Layer (type)                 Output Shape              Param #   \n",
      "=================================================================\n",
      "time_distributed_1 (TimeDist (None, None, 49, 49, 2)   10        \n",
      "_________________________________________________________________\n",
      "time_distributed_2 (TimeDist (None, None, 24, 24, 2)   0         \n",
      "_________________________________________________________________\n",
      "time_distributed_3 (TimeDist (None, None, 1152)        0         \n",
      "_________________________________________________________________\n",
      "lstm_1 (LSTM)                (None, 50)                240600    \n",
      "_________________________________________________________________\n",
      "dense_1 (Dense)              (None, 1)                 51        \n",
      "=================================================================\n",
      "Total params: 240,661\n",
      "Trainable params: 240,661\n",
      "Non-trainable params: 0\n",
      "_________________________________________________________________\n",
      "None\n"
     ]
    }
   ],
   "source": [
    "#define the model\n",
    "model = Sequential()\n",
    "model.add(TimeDistributed(Conv2D(2, (2, 2), activation='relu'), input_shape=(None, size, size, 1)))\n",
    "model.add(TimeDistributed(MaxPooling2D(pool_size=(2, 2))))\n",
    "model.add(TimeDistributed(Flatten()))\n",
    "model.add(LSTM(50))\n",
    "model.add(Dense(1, activation='sigmoid'))\n",
    "model.compile(loss='binary_crossentropy', optimizer='adam', metrics=['acc'])\n",
    "print(model.summary())"
   ]
  },
  {
   "cell_type": "code",
   "execution_count": null,
   "metadata": {},
   "outputs": [],
   "source": []
  }
 ],
 "metadata": {
  "kernelspec": {
   "display_name": "Python 2",
   "language": "python",
   "name": "python2"
  },
  "language_info": {
   "codemirror_mode": {
    "name": "ipython",
    "version": 2
   },
   "file_extension": ".py",
   "mimetype": "text/x-python",
   "name": "python",
   "nbconvert_exporter": "python",
   "pygments_lexer": "ipython2",
   "version": "2.7.16"
  }
 },
 "nbformat": 4,
 "nbformat_minor": 2
}
